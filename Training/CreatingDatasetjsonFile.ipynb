{
 "cells": [
  {
   "cell_type": "markdown",
   "id": "df733797",
   "metadata": {},
   "source": [
    "## Creating the dataset.json file"
   ]
  },
  {
   "cell_type": "code",
   "execution_count": null,
   "id": "e4387825",
   "metadata": {},
   "outputs": [],
   "source": [
    "import os\n",
    "import json\n",
    "\n",
    "# === Set root path containing both 'imagesTr' and 'labelsTr' ===\n",
    "root_dir = r\"------ INSERT PATH HERE ----------\"\n",
    "images_dir = os.path.join(root_dir, \"imagesTr\")\n",
    "labels_dir = os.path.join(root_dir, \"labelsTr\")\n",
    "\n",
    "# === Gather image-label pairs ===\n",
    "image_files = sorted([f for f in os.listdir(images_dir) if f.endswith(\"_0000.nii.gz\")])\n",
    "label_files = sorted([f for f in os.listdir(labels_dir) if f.endswith(\".nii.gz\") and not f.endswith(\"_0000.nii.gz\")])\n",
    "\n",
    "# === Sanity check ===\n",
    "if len(image_files) != len(label_files):\n",
    "    print(f\"⚠️ Warning: Number of images ({len(image_files)}) and labels ({len(label_files)}) does not match.\")\n",
    "\n",
    "# === Construct training list ===\n",
    "training = []\n",
    "for img, lbl in zip(image_files, label_files):\n",
    "    training.append({\n",
    "        \"image\": f\"./imagesTr/{img}\",\n",
    "        \"label\": f\"./labelsTr/{lbl}\"\n",
    "    })\n",
    "\n",
    "# === Build dataset dictionary ===\n",
    "dataset_dict = {\n",
    "    \"name\": \"LungLobeCombinedDataset122\",\n",
    "    \"description\": \"Segmentation of lung lobes from preoperative CT scans (combined public dataset).\",\n",
    "    \"tensorImageSize\": \"3D\",\n",
    "    \"modality\": {\n",
    "        \"0\": \"CT\"\n",
    "    },\n",
    "    \"labels\": {\n",
    "        \"background\": 0,\n",
    "        \"RUL\": 1,\n",
    "        \"RML\": 2,\n",
    "        \"RLL\": 3,\n",
    "        \"LUL\": 4,\n",
    "        \"LLL\": 5\n",
    "    },\n",
    "    \"numTraining\": len(training),\n",
    "    \"numTest\": 0,\n",
    "    \"channel_names\": {\n",
    "        \"0\": \"CT\"\n",
    "    },\n",
    "    \"file_ending\": \".nii.gz\",\n",
    "    \"training\": training,\n",
    "    \"test\": []\n",
    "}\n",
    "\n",
    "# === Save to dataset.json ===\n",
    "output_path = os.path.join(root_dir, \"dataset.json\")\n",
    "with open(output_path, 'w') as f:\n",
    "    json.dump(dataset_dict, f, indent=4)\n",
    "\n",
    "print(f\"✅ dataset.json created with {len(training)} training samples at:\\n{output_path}\")\n"
   ]
  }
 ],
 "metadata": {
  "language_info": {
   "name": "python"
  }
 },
 "nbformat": 4,
 "nbformat_minor": 5
}
