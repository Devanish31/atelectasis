{
 "cells": [
  {
   "cell_type": "markdown",
   "id": "8e14b7b7",
   "metadata": {},
   "source": [
    "## Calculating lobe volumes of all CTs"
   ]
  },
  {
   "cell_type": "code",
   "execution_count": null,
   "id": "c85fe6cc",
   "metadata": {},
   "outputs": [],
   "source": [
    "import os\n",
    "import csv\n",
    "import numpy as np\n",
    "import nibabel as nib\n",
    "\n",
    "# === Input & Output paths\n",
    "input_folder = r\"------ INSERT PATH HERE ------\"\n",
    "output_csv = r\"------ INSERT PATH HERE ------\"\n",
    "\n",
    "# === Collect all top-level .nii.gz files\n",
    "nii_files = [f for f in os.listdir(input_folder) if f.endswith(\".nii.gz\") and os.path.isfile(os.path.join(input_folder, f))]\n",
    "\n",
    "# === Initialize CSV\n",
    "with open(output_csv, 'w', newline='') as f:\n",
    "    writer = csv.writer(f)\n",
    "    writer.writerow([\"MRN\", \"RUL_vol_mL\", \"RML_vol_mL\", \"RLL_vol_mL\", \"LUL_vol_mL\", \"LLL_vol_mL\"])  # Header\n",
    "\n",
    "    for fname in sorted(nii_files):\n",
    "        mrn = fname.replace(\".nii.gz\", \"\")\n",
    "        fpath = os.path.join(input_folder, fname)\n",
    "\n",
    "        try:\n",
    "            # Load segmentation\n",
    "            img = nib.load(fpath)\n",
    "            data = img.get_fdata()\n",
    "            voxel_volume = np.prod(img.header.get_zooms())  # in mm³\n",
    "\n",
    "            # Compute volumes (in mL)\n",
    "            volumes = [(data == i).sum() * voxel_volume / 1000 for i in range(1, 6)]\n",
    "            rounded = [round(v, 2) for v in volumes]\n",
    "\n",
    "            writer.writerow([mrn] + rounded)\n",
    "            print(f\"✅ {mrn}: \" + \", \".join([f\"Label{i+1}={v:.1f}mL\" for i, v in enumerate(volumes)]))\n",
    "\n",
    "        except Exception as e:\n",
    "            print(f\"❌ Failed to process {fname}: {e}\")\n",
    "\n",
    "print(f\"\\n📄 Volume CSV written to: {output_csv}\")\n"
   ]
  }
 ],
 "metadata": {
  "kernelspec": {
   "display_name": "Python 3",
   "language": "python",
   "name": "python3"
  },
  "language_info": {
   "codemirror_mode": {
    "name": "ipython",
    "version": 3
   },
   "file_extension": ".py",
   "mimetype": "text/x-python",
   "name": "python",
   "nbconvert_exporter": "python",
   "pygments_lexer": "ipython3",
   "version": "3.13.0"
  }
 },
 "nbformat": 4,
 "nbformat_minor": 5
}
