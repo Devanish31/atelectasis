{
 "cells": [
  {
   "cell_type": "markdown",
   "id": "d6848b93",
   "metadata": {},
   "source": [
    "## Calculating lobe volumes of all CTs"
   ]
  },
  {
   "cell_type": "code",
   "execution_count": null,
   "id": "c8607a55",
   "metadata": {},
   "outputs": [],
   "source": [
    "import os\n",
    "import csv\n",
    "import numpy as np\n",
    "import nibabel as nib\n",
    "import pandas as pd\n",
    "\n",
    "# === Input & Output paths\n",
    "input_folder = r\"----- INSERT PATH HERE ------\"\n",
    "output_csv = r\"----- INSERT csv PATH HERE ------\"\n",
    "\n",
    "# === Collect all top-level .nii.gz files\n",
    "nii_files = [f for f in os.listdir(input_folder) if f.endswith(\".nii.gz\") and os.path.isfile(os.path.join(input_folder, f))]\n",
    "\n",
    "# === Initialize CSV\n",
    "with open(output_csv, 'w', newline='') as f:\n",
    "    writer = csv.writer(f)\n",
    "    writer.writerow([\"MRN\", \"RML_vol_mL\", \"RLL_vol_mL\", \"LL_vol_mL\"])  # Header\n",
    "\n",
    "    for fname in sorted(nii_files):\n",
    "        mrn = fname.replace(\".nii.gz\", \"\")\n",
    "        fpath = os.path.join(input_folder, fname)\n",
    "\n",
    "        try:\n",
    "            # Load segmentation\n",
    "            img = nib.load(fpath)\n",
    "            data = img.get_fdata()\n",
    "            voxel_volume = np.prod(img.header.get_zooms())  # in mm³\n",
    "\n",
    "            # Compute volume for each label (1, 2, 3)\n",
    "            vol_rml = np.sum(data == 1) * voxel_volume / 1000  # mL\n",
    "            vol_rll = np.sum(data == 2) * voxel_volume / 1000\n",
    "            vol_ll  = np.sum(data == 3) * voxel_volume / 1000\n",
    "\n",
    "            writer.writerow([mrn, round(vol_rml, 2), round(vol_rll, 2), round(vol_ll, 2)])\n",
    "            print(f\"✅ {mrn}: RML={vol_rml:.1f}, RLL={vol_rll:.1f}, LL={vol_ll:.1f} mL\")\n",
    "\n",
    "        except Exception as e:\n",
    "            print(f\"❌ Failed to process {fname}: {e}\")\n",
    "\n",
    "print(f\"\\n📄 Volume CSV written to: {output_csv}\")\n"
   ]
  }
 ],
 "metadata": {
  "kernelspec": {
   "display_name": "Python 3",
   "language": "python",
   "name": "python3"
  },
  "language_info": {
   "codemirror_mode": {
    "name": "ipython",
    "version": 3
   },
   "file_extension": ".py",
   "mimetype": "text/x-python",
   "name": "python",
   "nbconvert_exporter": "python",
   "pygments_lexer": "ipython3",
   "version": "3.13.0"
  }
 },
 "nbformat": 4,
 "nbformat_minor": 5
}
